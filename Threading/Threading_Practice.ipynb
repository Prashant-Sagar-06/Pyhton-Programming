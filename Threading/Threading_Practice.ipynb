{
 "cells": [
  {
   "cell_type": "markdown",
   "metadata": {},
   "source": [
    "1) Threaded Timer App: Create a Python application that prints \"Timer expired!\" after a specified delay using threading.Timer.\n",
    "\n",
    "Description: This program prompts the user to enter a delay time in seconds. After the specified delay, it prints \"Timer expired!\" using a separate thread.\n",
    "\n",
    "Sample Input:\n",
    "\n",
    "Enter the delay time (in seconds): 5\n",
    "Sample Output:\n",
    "\n",
    "Timer started...\n",
    "Timer expired!"
   ]
  },
  {
   "cell_type": "code",
   "execution_count": null,
   "metadata": {},
   "outputs": [],
   "source": [
    "import threading\n",
    "import time\n",
    "import random\n",
    "import string"
   ]
  },
  {
   "cell_type": "code",
   "execution_count": null,
   "metadata": {},
   "outputs": [],
   "source": [
    "def fun():\n",
    "    print(\"Timer start\")\n",
    "    va=int(input(\"Enter the time (in seconds): \"))\n",
    "    time.sleep(va)\n",
    "    print(\"Timer expired\")\n",
    "\n",
    "T1=threading.Thread(target=fun)\n",
    "T1.start()"
   ]
  },
  {
   "cell_type": "markdown",
   "metadata": {},
   "source": [
    "2) Threaded Countdown App: Write a Python application that counts down from 10 to 1, printing each number with a delay of one second between them using threading.\n",
    "\n",
    "Description: This program counts down from 10 to 1, printing each number with a delay of one second between them using separate threads.\n",
    "\n",
    "Sample Output:\n",
    "\n",
    "10\n",
    "9\n",
    "8\n",
    "7\n",
    "6\n",
    "5\n",
    "4\n",
    "3\n",
    "2\n",
    "1"
   ]
  },
  {
   "cell_type": "code",
   "execution_count": null,
   "metadata": {},
   "outputs": [],
   "source": [
    "def fun():\n",
    "    for i  in range(10,0,-1):\n",
    "        print(i)\n",
    "        time.sleep(1)\n",
    "T1=threading.Thread(target=fun)\n",
    "T1.start()        "
   ]
  },
  {
   "cell_type": "markdown",
   "metadata": {},
   "source": [
    "3) Threaded Message Printer: Develop a Python program that prints a message \"Hello, World!\" every two seconds using threading.\n",
    "\n",
    "Description: This program prints \"Hello, World!\" repeatedly with a delay of two seconds between each message using threading.\n",
    "\n",
    "Sample Output:\n",
    "\n",
    "Hello, World!\n",
    "Hello, World!\n",
    "Hello, World!\n",
    "..."
   ]
  },
  {
   "cell_type": "code",
   "execution_count": null,
   "metadata": {},
   "outputs": [],
   "source": [
    "def fun():\n",
    "    a=0\n",
    "    while a<10:\n",
    "        print(\"Hello World\")\n",
    "        time.sleep(2)\n",
    "        a+=1\n",
    "T1=threading.Thread(target=fun)\n",
    "T1.start()\n"
   ]
  },
  {
   "cell_type": "markdown",
   "metadata": {},
   "source": [
    "4) Threaded Random Password Generator: Create a Python program that generates a random password of given length in a separate thread and prints the result.\n",
    "\n",
    "Description: This program generates a random password of a given length in a separate thread.\n",
    "\n",
    "Sample Input:\n",
    "\n",
    "Enter the length of the password: 8\n",
    "Sample Output:\n",
    "\n",
    "Random Password: xY8$z2Pq\n"
   ]
  },
  {
   "cell_type": "code",
   "execution_count": null,
   "metadata": {},
   "outputs": [],
   "source": [
    "def generate_password(length):\n",
    "    \n",
    "    characters = string.ascii_letters + string.digits\n",
    "    password = ''.join(random.choice(characters) for _ in range(length))\n",
    "    print(\"Generated password: \", password)\n",
    "password_length = int(input(\"Enter the length of the password: \"))\n",
    "password_thread = threading.Thread(target=generate_password, args=(password_length,))\n",
    "password_thread.start()\n",
    "password_thread.join()"
   ]
  },
  {
   "cell_type": "markdown",
   "metadata": {},
   "source": [
    "5)  Threaded Number Generator: Write a Python program that generates and prints five random numbers with a delay of one second between each using threading.\n",
    "\n",
    "Description: This program generates and prints five random numbers with a delay of one second between each number using threading.\n",
    "\n",
    "Sample Output:\n",
    "\n",
    "42\n",
    "88\n",
    "15\n",
    "7\n",
    "91"
   ]
  },
  {
   "cell_type": "code",
   "execution_count": null,
   "metadata": {},
   "outputs": [],
   "source": [
    "def generate_numbers():\n",
    "    for _ in range(5):\n",
    "        print(random.randint(1, 100))\n",
    "        time.sleep(1)\n",
    "numbers_thread = threading.Thread(target=generate_numbers)\n",
    "numbers_thread.start()"
   ]
  },
  {
   "cell_type": "markdown",
   "metadata": {},
   "source": [
    "6) Threaded Sum Calculator: Develop a Python program that calculates the sum of numbers from 1 to 100 using multiple threads, each responsible for a portion of the calculation.\n",
    "\n",
    "Description: This program calculates the sum of numbers from 1 to 100 using multiple threads, with each thread responsible for a portion of the calculation.\n",
    "\n",
    "Sample Output:\n",
    "\n",
    "Sum of numbers from 1 to 100 is 5050."
   ]
  },
  {
   "cell_type": "code",
   "execution_count": null,
   "metadata": {},
   "outputs": [],
   "source": [
    "def fun():\n",
    "    slot1=0\n",
    "    slot2=0\n",
    "    slot3=0\n",
    "    slot4=0\n",
    "    for i in range (0,25,1):\n",
    "        slot1+=i\n",
    "    for i in range (25,50,1):\n",
    "        slot2+=i\n",
    "    for i in range (50,75,1):\n",
    "        slot3+=i\n",
    "    for i in range (75,101,1):\n",
    "        slot4+=i\n",
    "    print(\"Sum of numbers in 1 to 100 : \",slot1+slot2+slot3+slot4) \n",
    "T=threading.Thread(target=fun)\n",
    "T.start()                    \n"
   ]
  },
  {
   "cell_type": "markdown",
   "metadata": {},
   "source": [
    "7) Threaded Factorial Calculator: Create a Python application that calculates the factorial of a given number in a separate thread and prints the result.\n",
    "\n",
    "Description: This program calculates the factorial of a given number in a separate thread and prints the result.\n",
    "\n",
    "Sample Input:\n",
    "\n",
    "Enter a number: 5\n",
    "Sample Output:\n",
    "\n",
    "Factorial of 5 is 120."
   ]
  },
  {
   "cell_type": "code",
   "execution_count": null,
   "metadata": {},
   "outputs": [],
   "source": [
    "def fun(fact):\n",
    "    \n",
    "    factorial=1\n",
    "    for i in range(1,fact+1):\n",
    "        factorial=factorial*i\n",
    "    print(\"Factorial of \",fact,\" is \",factorial)\n",
    "fact=int(input(\"Enter the number: \"))    \n",
    "T=threading.Thread(target=fun,args=(fact,))\n",
    "T.start()"
   ]
  },
  {
   "cell_type": "markdown",
   "metadata": {},
   "source": [
    "8) Threaded Character Printer: Write a Python program that prints each character of a given string with a delay of one second between them using threading.\n",
    "\n",
    "Description: This program prints each character of a given string with a delay of one second between them using threading.\n",
    "\n",
    "Sample Input:\n",
    "\n",
    "Enter a string: Hello\n",
    "Sample Output:\n",
    "\n",
    "H\n",
    "e\n",
    "l\n",
    "l\n",
    "o"
   ]
  },
  {
   "cell_type": "code",
   "execution_count": null,
   "metadata": {},
   "outputs": [],
   "source": [
    "def print_characters(string):\n",
    "    for character in string:\n",
    "        print(character)\n",
    "        time.sleep(1)\n",
    "\n",
    "\n",
    "input_string = str(input(\"Enter a string: \"))\n",
    "characters_thread = threading.Thread(target=print_characters, args=(input_string,))\n",
    "characters_thread.start()"
   ]
  },
  {
   "cell_type": "markdown",
   "metadata": {},
   "source": [
    "9) Threaded Delayed Greeting: Develop a Python application that prompts the user for their name, then prints a personalized greeting message after a delay of three seconds using threading.\n",
    "\n",
    "Description: This program prompts the user for their name and prints a personalized greeting message after a delay of three seconds using threading.\n",
    "\n",
    "Sample Input:\n",
    "\n",
    "Enter your name: Alice\n",
    "Sample Output:\n",
    "\n",
    "Hello, Alice! Welcome."
   ]
  },
  {
   "cell_type": "code",
   "execution_count": null,
   "metadata": {},
   "outputs": [],
   "source": [
    "def fun(user):\n",
    "    net=\"Hello, \"+ user+\"!\"+\" Welcome.\"\n",
    "    time.sleep(3)\n",
    "    print(net)\n",
    "user=input(\"Enter the username: \")\n",
    "T=threading.Thread(target=fun,args=(user,))\n",
    "T.start()\n"
   ]
  },
  {
   "cell_type": "markdown",
   "metadata": {},
   "source": [
    "10) Threaded Pattern Printer: Create a Python program that prints a pattern of asterisks in a separate thread, where each line of the pattern is printed with a delay of one second.\n",
    "\n",
    "Description: This program prints a pattern of asterisks in a separate thread, where each line of the pattern is printed with a delay of one second.\n",
    "\n",
    "Sample Output:\n",
    "\n",
    "*\n",
    "**\n",
    "***\n",
    "****\n",
    "*****"
   ]
  },
  {
   "cell_type": "code",
   "execution_count": null,
   "metadata": {},
   "outputs": [],
   "source": [
    "def print_pattern(n):\n",
    "    for i in range(1, n + 1):\n",
    "        print('*' * i)\n",
    "        time.sleep(1)\n",
    "num_lines = int(input(\"Enter the number of lines in the pattern: \"))\n",
    "pattern_thread = threading.Thread(target=print_pattern, args=(num_lines,))\n",
    "pattern_thread.start()"
   ]
  },
  {
   "cell_type": "markdown",
   "metadata": {},
   "source": [
    "11) Threaded Prime Checker: Write a Python program that checks if a given number is prime or not in a separate thread and prints the result.\n",
    "\n",
    "Description: This program prompts the user for a number and checks if it is prime or not using threading.\n",
    "\n",
    "Sample Input:\n",
    "\n",
    "Enter a number: 17\n",
    "Sample Output:\n",
    "\n",
    "17 is a prime number."
   ]
  },
  {
   "cell_type": "code",
   "execution_count": null,
   "metadata": {},
   "outputs": [],
   "source": [
    "def prime(num):\n",
    "    if num>1:\n",
    "        for i in range(2,num):\n",
    "            if num%i==0:\n",
    "                print(num,\" is not a prime number.\")\n",
    "                break\n",
    "        else:\n",
    "            print(num,\" is a prime number.\")\n",
    "    else:\n",
    "        print(num,\" is not a prime number.\")\n",
    "num=int(input(\"Enter the number: \"))\n",
    "T=threading.Thread(target=prime,args=(num,))\n",
    "T.start()\n"
   ]
  },
  {
   "cell_type": "markdown",
   "metadata": {},
   "source": [
    "12) Threaded Sum of Squares Calculator: Create a Python program that calculates the sum of squares of numbers from 1 to 10 using multiple threads, each responsible for a portion of the calculation.\n",
    "\n",
    "Description: This program calculates the sum of squares of numbers from 1 to 10 using multiple threads.\n",
    "\n",
    "Sample Output:\n",
    "\n",
    "Sum of squares from 1 to 10 is 385."
   ]
  },
  {
   "cell_type": "code",
   "execution_count": null,
   "metadata": {},
   "outputs": [],
   "source": [
    "def square_calc():\n",
    "    sum = 0\n",
    "    for i in range(1, 11):\n",
    "        sum += i**2\n",
    "    print(f\"Sum of squares of numbers from 1 to 10 is {sum}\")\n",
    "    time.sleep(1)\n",
    "\n",
    "square_thread = threading.Thread(target=square_calc)\n",
    "square_thread.start()"
   ]
  },
  {
   "cell_type": "markdown",
   "metadata": {},
   "source": [
    "13) Threaded Fibonacci Calculator: Develop a Python application that calculates the nth Fibonacci number in a separate thread and prints the result.\n",
    "\n",
    "Description: This program calculates the nth Fibonacci number in a separate thread.\n",
    "\n",
    "Sample Input:\n",
    "\n",
    "Enter the value of n: 10\n",
    "Sample Output:\n",
    "\n",
    "The 10th Fibonacci number is 55."
   ]
  },
  {
   "cell_type": "code",
   "execution_count": null,
   "metadata": {},
   "outputs": [],
   "source": [
    "def fibonacci(n):\n",
    "    a, b = 0, 1\n",
    "    for _ in range(n):\n",
    "        a, b = b, a + b\n",
    "    print(f\"The {n}th Fibonacci number is {a}\")\n",
    "\n",
    "num_terms = int(input(\"Enter the position in the Fibonacci sequence: \"))\n",
    "fibonacci_thread = threading.Thread(target=fibonacci, args=(num_terms,))\n",
    "fibonacci_thread.start()"
   ]
  },
  {
   "cell_type": "markdown",
   "metadata": {},
   "source": [
    "14) Threaded Simple Calculator: Write a Python program that performs simple arithmetic operations (addition, subtraction, multiplication, and division) in a separate thread based on user input.\n",
    "\n",
    "Description: This program prompts the user for two numbers and an operation, then performs the operation in a separate thread.\n",
    "\n",
    "Sample Input:\n",
    "\n",
    "Enter the first number: 10\n",
    "Enter the second number: 5\n",
    "Enter the operation (+, -, *, /): *\n",
    "Sample Output:\n",
    "\n",
    "Result: 50"
   ]
  },
  {
   "cell_type": "code",
   "execution_count": null,
   "metadata": {},
   "outputs": [],
   "source": [
    "def add(a, b):\n",
    "    print(f\"The sum of {a} and {b} is {a + b}\")\n",
    "\n",
    "def subtract(a, b):\n",
    "    print(f\"The difference of {a} and {b} is {a - b}\")\n",
    "\n",
    "def multiply(a, b):\n",
    "    print(f\"The product of {a} and {b} is {a * b}\")\n",
    "\n",
    "def divide(a, b):\n",
    "    print(f\"The division of {a} and {b} is {a / b}\")\n",
    "\n",
    "if __name__ == \"__main__\":\n",
    "    a = int(input(\"Enter the first number: \"))\n",
    "    b = int(input(\"Enter the second number: \"))\n",
    "    op = input(\"Enter the operation to be performed: \")\n",
    "\n",
    "    if op == '+':\n",
    "        thread = threading.Thread(target=add, args=(a, b))\n",
    "    elif op == '-':\n",
    "        thread = threading.Thread(target=subtract, args=(a, b))\n",
    "    elif op == '*':\n",
    "        thread = threading.Thread(target=multiply, args=(a, b))\n",
    "    elif op == '/':\n",
    "        thread = threading.Thread(target=divide, args=(a, b))\n",
    "    else:\n",
    "        print(\"Invalid operation\")\n",
    "        exit(1)\n",
    "\n",
    "    thread.start()"
   ]
  }
 ],
 "metadata": {
  "kernelspec": {
   "display_name": "Python 3",
   "language": "python",
   "name": "python3"
  },
  "language_info": {
   "codemirror_mode": {
    "name": "ipython",
    "version": 3
   },
   "file_extension": ".py",
   "mimetype": "text/x-python",
   "name": "python",
   "nbconvert_exporter": "python",
   "pygments_lexer": "ipython3",
   "version": "3.12.2"
  }
 },
 "nbformat": 4,
 "nbformat_minor": 2
}
